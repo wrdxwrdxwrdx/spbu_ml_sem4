{
 "cells": [
  {
   "cell_type": "markdown",
   "metadata": {
    "id": "1PjQglGj4q54"
   },
   "source": [
    "# Случайные леса\n",
    "\n",
    "В этом задании вам предстоит реализовать ансамбль деревьев решений, известный как случайный лес, применить его к публичным данным пользователей социальной сети Вконтакте, и сравнить его эффективность с бустингом, предоставляемым библиотекой `CatBoost`.\n",
    "\n",
    "В результате мы сможем определить, какие подписки пользователей больше всего влияют на определение возраста и пола человека."
   ]
  },
  {
   "cell_type": "code",
   "execution_count": 153,
   "metadata": {
    "id": "LH5PiGz04q5-"
   },
   "outputs": [],
   "source": [
    "import inspect\n",
    "import random\n",
    "from collections import Counter\n",
    "from dataclasses import dataclass\n",
    "from itertools import product\n",
    "from typing import Callable, List, Tuple, Union, Optional\n",
    "\n",
    "import numpy as np\n",
    "import numpy.typing as npt\n",
    "import pandas\n",
    "from catboost import CatBoostClassifier\n",
    "from sklearn.model_selection import train_test_split\n",
    "from tqdm.notebook import tqdm"
   ]
  },
  {
   "cell_type": "code",
   "execution_count": 154,
   "metadata": {
    "id": "XzgO8_jotCmn",
    "pycharm": {
     "name": "#%%\n"
    }
   },
   "outputs": [],
   "source": [
    "def set_seed(seed=42):\n",
    "    np.random.seed(seed)\n",
    "    random.seed(seed)\n",
    "\n",
    "\n",
    "# Этой функцией будут помечены все места, которые необходимо дозаполнить\n",
    "# Это могут быть как целые функции, так и отдельные части внутри них\n",
    "# Всегда можно воспользоваться интроспекцией и найти места использования этой функции :)\n",
    "def todo():\n",
    "    stack = inspect.stack()\n",
    "    caller_frame = stack[1]\n",
    "    function_name = caller_frame.function\n",
    "    line_number = caller_frame.lineno\n",
    "    raise NotImplementedError(f\"TODO at {function_name}, line {line_number}\")\n",
    "\n",
    "\n",
    "SEED = 0xC0FFEE\n",
    "set_seed(SEED)"
   ]
  },
  {
   "cell_type": "code",
   "execution_count": 155,
   "metadata": {
    "id": "p4gk2tqRtCmo"
   },
   "outputs": [],
   "source": [
    "def mode(data):\n",
    "    counts = Counter(data)\n",
    "    return counts.most_common(n=1)[0][0]"
   ]
  },
  {
   "cell_type": "markdown",
   "metadata": {
    "id": "tfxycK0Q4q5_"
   },
   "source": [
    "### Задание 1 (2 балла)\n",
    "Random Forest состоит из деревьев решений. Каждое такое дерево строится на одной из выборок, полученных при помощи bootstrap. Элементы, которые не вошли в новую обучающую выборку, образуют **out-of-bag** выборку. Кроме того, в каждом узле дерева мы случайным образом выбираем набор из `max_features` и ищем признак для предиката разбиения только в этом наборе.\n",
    "\n",
    "Сегодня мы будем работать только с бинарными признаками, поэтому нет необходимости выбирать значение признака для разбиения.\n",
    "\n",
    "#### Методы\n",
    "`predict(X)` - возвращает предсказанные метки для элементов выборки `X`\n",
    "\n",
    "#### Параметры конструктора\n",
    "`X, y` - обучающая выборка и соответствующие ей метки классов. Из нее нужно получить выборку для построения дерева при помощи bootstrap. Out-of-bag выборку нужно запомнить, она понадобится потом.\n",
    "\n",
    "`criterion=\"gini\"` - задает критерий, который будет использоваться при построении дерева. Возможные значения: `\"gini\"`, `\"entropy\"`.\n",
    "\n",
    "`max_depth=None` - ограничение глубины дерева. Если `None` - глубина не ограничена\n",
    "\n",
    "`min_samples_leaf=1` - минимальное количество элементов в каждом листе дерева.\n",
    "\n",
    "`max_features=\"auto\"` - количество признаков, которые могут использоваться в узле. Если `\"auto\"` - равно `sqrt(X.shape[1])`"
   ]
  },
  {
   "cell_type": "code",
   "execution_count": 156,
   "metadata": {
    "id": "bQUJHTjS4q5-"
   },
   "outputs": [],
   "source": [
    "# Для начала реализуем сами критерии\n",
    "\n",
    "\n",
    "def gini(x: npt.ArrayLike) -> float:\n",
    "    \"\"\"\n",
    "    Calculate the Gini impurity of a list or array of class labels.\n",
    "\n",
    "    Args:\n",
    "        x (ArrayLike): Array-like object containing class labels.\n",
    "\n",
    "    Returns:\n",
    "        float: Gini impurity value.\n",
    "    \"\"\"\n",
    "    _, counts = np.unique(x, return_counts=True)\n",
    "    probabilities = counts / len(x)\n",
    "    return 1 - np.sum(probabilities ** 2)\n",
    "    \n",
    "\n",
    "\n",
    "def entropy(x: npt.ArrayLike) -> float:\n",
    "    \"\"\"\n",
    "    Calculate the entropy of a list or array of class labels.\n",
    "\n",
    "    Args:\n",
    "        x (ArrayLike): Array-like object containing class labels.\n",
    "\n",
    "    Returns:\n",
    "        float: Entropy value.\n",
    "    \"\"\"\n",
    "    _, counts = np.unique(x, return_counts=True)\n",
    "    probabilities = counts / len(x)\n",
    "    return -np.sum(probabilities * np.log2(probabilities))\n",
    "\n",
    "\n",
    "def gain(left_y: npt.ArrayLike, right_y: npt.ArrayLike, criterion: Callable[[npt.ArrayLike], float]) -> float:\n",
    "    \"\"\"\n",
    "    Calculate the information gain of a split using a specified criterion.\n",
    "\n",
    "    Args:\n",
    "        left_y (ArrayLike): Class labels for the left split.\n",
    "        right_y (ArrayLike): Class labels for the right split.\n",
    "        criterion (Callable): Function to calculate impurity (e.g., gini or entropy).\n",
    "\n",
    "    Returns:\n",
    "        float: Information gain from the split.\n",
    "    \"\"\"\n",
    "    parent = np.concatenate((left_y, right_y))\n",
    "    parent_impurity = criterion(parent)\n",
    "    \n",
    "    left_impurity = criterion(left_y) if len(left_y) > 0 else 0.0\n",
    "    right_impurity = criterion(right_y) if len(right_y) > 0 else 0.0\n",
    "    weighted_impurity = (len(left_y) * left_impurity + len(right_y) * right_impurity) / (len(right_y) + len(left_y))\n",
    "    \n",
    "    return parent_impurity - weighted_impurity"
   ]
  },
  {
   "cell_type": "code",
   "execution_count": 157,
   "metadata": {
    "id": "P521YF8atCmq",
    "pycharm": {
     "name": "#%%\n"
    }
   },
   "outputs": [],
   "source": [
    "@dataclass\n",
    "class DecisionTreeLeaf:\n",
    "    classes: np.ndarray\n",
    "\n",
    "    def __post_init__(self):\n",
    "        self.max_class = mode(self.classes)\n",
    "\n",
    "\n",
    "@dataclass\n",
    "class DecisionTreeInternalNode:\n",
    "    split_dim: int\n",
    "    left: Union[\"DecisionTreeInternalNode\", DecisionTreeLeaf]\n",
    "    right: Union[\"DecisionTreeInternalNode\", DecisionTreeLeaf]\n",
    "\n",
    "\n",
    "DecisionTreeNode = Union[DecisionTreeInternalNode, DecisionTreeLeaf]"
   ]
  },
  {
   "cell_type": "code",
   "execution_count": 176,
   "metadata": {
    "id": "8smLW2V_4q5_"
   },
   "outputs": [],
   "source": [
    "class DecisionTree:\n",
    "    def __init__(self, X, y, criterion=\"gini\", max_depth=None, min_samples_leaf=1, max_features=\"auto\"):\n",
    "        self.X = X\n",
    "        self.y = y\n",
    "        self._out_of_bag_X = np.ndarray([])\n",
    "        self._out_of_bag_y = np.ndarray([])\n",
    "        self.criterion = gini if criterion == \"gini\" else entropy\n",
    "        self.max_depth = max_depth if max_depth else float(\"inf\")\n",
    "        self.min_samples_leaf = min_samples_leaf\n",
    "        self.max_features = int(np.sqrt(X.shape[1])) if max_features == \"auto\" else len(X[0])\n",
    "        self.root = self._build_node(*self._choose_train_X())\n",
    "\n",
    "    @property\n",
    "    def out_of_bag(self) -> Tuple[np.ndarray, np.ndarray]:\n",
    "        return self._out_of_bag_X, self._out_of_bag_y\n",
    "\n",
    "    def feature_importance_j(self, j: int) -> float:\n",
    "        return max(0, self._err_oob_j(j) - self._err_oob())\n",
    "    \n",
    "    def _err_oob(self) -> float:\n",
    "        oob_result = self.predict(self._out_of_bag_X)\n",
    "        return np.mean(self._out_of_bag_y != oob_result)\n",
    "\n",
    "    def _err_oob_j(self, j: int) -> float:\n",
    "        shuffle_j = np.array(self._out_of_bag_X.copy())\n",
    "        np.random.shuffle(shuffle_j[:, j])\n",
    "        shuffle_j_result = self.predict(shuffle_j)\n",
    "        return np.mean(self._out_of_bag_y != shuffle_j_result)\n",
    "        \n",
    "    def _choose_train_X(self) -> Tuple[np.ndarray, np.ndarray]:\n",
    "        train = random.choices(range(len(self.X)), k=len(self.X))\n",
    "        oob = list(set(range(len(self.X))) - set(train))\n",
    "        out_of_bag_X, out_of_bag_y = [], []\n",
    "        for point in oob:\n",
    "            out_of_bag_X.append(self.X[point])\n",
    "            out_of_bag_y.append(self.y[point])\n",
    "        self._out_of_bag_X, self._out_of_bag_y = out_of_bag_X, out_of_bag_y\n",
    "        return np.array([self.X[point] for point in train]), np.array([self.y[point] for point in train])\n",
    "    \n",
    "    def _build_node(self, points: np.ndarray, classes: np.ndarray, depth: int=0) -> DecisionTreeNode:\n",
    "        if len(points) < 2 * self.min_samples_leaf or depth == self.max_depth:\n",
    "            return DecisionTreeLeaf(classes)\n",
    "        \n",
    "        feature = self._get_best_feature(points, classes)\n",
    "        left_x, right_x = self._question_point(feature, points, classes)\n",
    "        left_y, right_y = self._question_class(feature, points, classes)\n",
    "        if len(left_y) == 0:\n",
    "            return DecisionTreeLeaf(right_y)\n",
    "        if len(right_y) == 0:\n",
    "            return DecisionTreeLeaf(left_y)\n",
    "        return DecisionTreeInternalNode(feature, self._build_node(left_x, left_y, depth + 1), self._build_node(right_x, right_y, depth + 1))\n",
    "        \n",
    "    def _get_best_feature(self, points: np.ndarray, classes: np.ndarray) -> int:\n",
    "        features = random.sample(range(len(points[0])), self.max_features)\n",
    "        result_feature, best_gain_result = 0, float(\"-inf\")\n",
    "        for feature in features:\n",
    "            left, right = self._question_class(feature, points, classes)\n",
    "            gain_result = gain(left, right, self.criterion)\n",
    "            if gain_result > best_gain_result:\n",
    "                result_feature, best_gain_result = feature, gain_result\n",
    "        return result_feature\n",
    "\n",
    "    @staticmethod\n",
    "    def _question_class(feature: int, points: np.ndarray, classes: np.ndarray) -> Tuple[np.ndarray, np.ndarray]:\n",
    "        left, right = [], []\n",
    "        for i, point in enumerate(points):\n",
    "            if point[feature]:\n",
    "                left.append(classes[i])\n",
    "            else:\n",
    "                right.append(classes[i])\n",
    "        return np.array(left), np.array(right)\n",
    "\n",
    "    \n",
    "    @staticmethod\n",
    "    def _question_point(feature: int, points: np.ndarray, classes: np.ndarray) -> Tuple[np.ndarray, np.ndarray]:\n",
    "        left, right = [], []\n",
    "        for i, point in enumerate(points):\n",
    "            if point[feature]:\n",
    "                left.append(point)\n",
    "            else:\n",
    "                right.append(point)\n",
    "        return np.array(left), np.array(right)\n",
    "        \n",
    "    def predict_single_point(self, point: np.ndarray, node: Optional[DecisionTreeNode]=None) -> int:\n",
    "        if node is None:\n",
    "            node = self.root\n",
    "        if isinstance(node, DecisionTreeLeaf):\n",
    "            return node.max_class\n",
    "        if point[node.split_dim]:\n",
    "            return self.predict_single_point(point, node.left)\n",
    "        return self.predict_single_point(point, node.right)\n",
    "        \n",
    "    def predict(self, points: np.ndarray) -> np.ndarray:\n",
    "        return np.array([self.predict_single_point(point, self.root) for point in points])\n"
   ]
  },
  {
   "cell_type": "markdown",
   "metadata": {
    "id": "9oijgwLt4q6A"
   },
   "source": [
    "### Задание 2 (2 балла)\n",
    "Теперь реализуем сам Random Forest. Идея очень простая: строим `n` деревьев, а затем берем модальное предсказание.\n",
    "\n",
    "#### Параметры конструктора\n",
    "`n_estimators` - количество используемых для предсказания деревьев.\n",
    "\n",
    "Остальное - параметры деревьев.\n",
    "\n",
    "#### Методы\n",
    "`fit(X, y)` - строит `n_estimators` деревьев по выборке `X`.\n",
    "\n",
    "`predict(X)` - для каждого элемента выборки `X` возвращает самый частый класс, который предсказывают для него деревья."
   ]
  },
  {
   "cell_type": "code",
   "execution_count": 179,
   "metadata": {
    "id": "APIy88YW4q6A"
   },
   "outputs": [],
   "source": [
    "class RandomForestClassifier:\n",
    "\n",
    "    _n_features: int = None\n",
    "\n",
    "    def __init__(self, criterion=\"gini\", max_depth=None, min_samples_leaf=1, max_features=\"auto\", n_estimators=10):\n",
    "        self._criterion = criterion\n",
    "        self._max_depth = max_depth\n",
    "        self._min_samples_leaf = min_samples_leaf\n",
    "        self._max_features = max_features\n",
    "        self._n_estimators = n_estimators\n",
    "        self._estimators = []\n",
    "        self._feature_number = 0\n",
    "\n",
    "    @property\n",
    "    def estimators(self) -> List[DecisionTree]:\n",
    "        return self._estimators\n",
    "\n",
    "    @property\n",
    "    def n_features(self) -> int:\n",
    "        if self._n_features is None:\n",
    "            raise RuntimeError(\"Fit random forest before accessing to number of features properties\")\n",
    "        return self._n_features\n",
    "    \n",
    "    def feature_importance_j(self, j: int) -> float:\n",
    "        result = 0\n",
    "        for tree in self.estimators:\n",
    "            delta = tree.feature_importance_j(j)\n",
    "            result += delta\n",
    "        return result / self._n_estimators\n",
    "\n",
    "    \n",
    "    def feature_importance(self) -> np.ndarray:\n",
    "        result = []\n",
    "        for j in range(self._feature_number):\n",
    "            result.append(self.feature_importance_j(j))\n",
    "\n",
    "        if np.sum(result) > 0:\n",
    "            result /= np.sum(result)\n",
    "        \n",
    "        return result\n",
    "    \n",
    "    \n",
    "    def fit(self, X, y):\n",
    "        self._feature_number = len(X[0])\n",
    "        for _ in range(self._n_estimators):\n",
    "            self.estimators.append(DecisionTree(X, y, self._criterion, self._max_depth, self._min_samples_leaf, self._max_features))\n",
    "\n",
    "    def predict(self, X):\n",
    "        predicts = np.array([tree.predict(X) for tree in self._estimators])\n",
    "        result = []\n",
    "        for tree_preds in predicts.T:\n",
    "            result.append(mode(tree_preds))\n",
    "        return result\n",
    "        "
   ]
  },
  {
   "cell_type": "markdown",
   "metadata": {
    "id": "i80pffMn4q6A"
   },
   "source": [
    "### Задание 3 (2 балла)\n",
    "Часто хочется понимать, насколько большую роль играет тот или иной признак для предсказания класса объекта. Есть различные способы посчитать его важность. Один из простых способов сделать это для Random Forest - посчитать out-of-bag ошибку предсказания `err_oob`, а затем перемешать значения признака `j` и посчитать ее (`err_oob_j`) еще раз. Оценкой важности признака `j` для одного дерева будет разность `err_oob_j - err_oob`, важность для всего леса считается как среднее значение важности по деревьям.\n",
    "\n",
    "Реализуйте функцию `feature_importance`, которая принимает на вход Random Forest и возвращает массив, в котором содержится важность для каждого признака."
   ]
  },
  {
   "cell_type": "code",
   "execution_count": 160,
   "metadata": {
    "id": "rEmVG1Fl4q6B"
   },
   "outputs": [],
   "source": [
    "def accuracy_score(y_true: np.ndarray, y_pred: np.ndarray) -> float:\n",
    "    y_true = y_true.reshape(-1)\n",
    "    y_pred = y_pred.reshape(-1)\n",
    "    return np.mean(y_true == y_pred)\n",
    "\n",
    "\n",
    "def feature_importance(rfc):\n",
    "    return rfc.feature_importance()\n",
    "\n",
    "\n",
    "def most_important_features(importance, names, k=20):\n",
    "    # Выводит названия k самых важных признаков\n",
    "    indices = np.argsort(importance)[::-1][:k]\n",
    "    return np.array(names)[indices]"
   ]
  },
  {
   "cell_type": "markdown",
   "metadata": {
    "id": "JooN_YKm4q6B"
   },
   "source": [
    "Наконец, пришло время протестировать наше дерево на простом синтетическом наборе данных. В результате точность должна быть примерно равна `1.0`, наибольшее значение важности должно быть у признака с индексом `4`, признаки с индексами `2` и `3`  должны быть одинаково важны, а остальные признаки - не важны совсем."
   ]
  },
  {
   "cell_type": "code",
   "execution_count": 180,
   "metadata": {
    "id": "8gqYMp994q6B"
   },
   "outputs": [
    {
     "name": "stdout",
     "output_type": "stream",
     "text": [
      "Accuracy: 1.0\n",
      "Importance: [0.00313275 0.00617325 0.23022527 0.24092433 0.51117186 0.00837254]\n"
     ]
    }
   ],
   "source": [
    "def synthetic_dataset(size):\n",
    "    X = [\n",
    "        (np.random.randint(0, 2), np.random.randint(0, 2), i % 6 == 3, i % 6 == 0, i % 3 == 2, np.random.randint(0, 2))\n",
    "        for i in range(size)\n",
    "    ]\n",
    "    y = [i % 3 for i in range(size)]\n",
    "    return np.array(X), np.array(y)\n",
    "\n",
    "\n",
    "X, y = synthetic_dataset(1000)\n",
    "\n",
    "rfc = RandomForestClassifier(n_estimators=100)\n",
    "rfc.fit(X, y)\n",
    "print(\"Accuracy:\", np.mean(rfc.predict(X) == y))\n",
    "print(\"Importance:\", feature_importance(rfc))"
   ]
  },
  {
   "cell_type": "markdown",
   "metadata": {
    "id": "vRtGOs164q6C"
   },
   "source": [
    "### Задание 4 (1 балл)\n",
    "Теперь поработаем с реальными данными.\n",
    "\n",
    "Выборка состоит из публичных анонимизированных данных пользователей социальной сети Вконтакте. Первые два столбца отражают возрастную группу (`zoomer`, `doomer` и `boomer`) и пол (`female`, `male`). Все остальные столбцы являются бинарными признаками, каждый из них определяет, подписан ли пользователь на определенную группу/публичную страницу или нет.\\\n",
    "\\\n",
    "Необходимо обучить два классификатора, один из которых определяет возрастную группу, а второй - пол.\\\n",
    "\\\n",
    "Эксперименты с множеством используемых признаков и подбор гиперпараметров приветствуются. Лес должен строиться за какое-то разумное время."
   ]
  },
  {
   "cell_type": "code",
   "execution_count": 181,
   "metadata": {
    "id": "HruobK-q4q6C"
   },
   "outputs": [],
   "source": [
    "def read_dataset(path):\n",
    "    dataframe = pandas.read_csv(path, header=0)\n",
    "    dataset = dataframe.values.tolist()\n",
    "    random.shuffle(dataset)\n",
    "    y_age = [row[0] for row in dataset]\n",
    "    y_sex = [row[1] for row in dataset]\n",
    "    X = [row[2:] for row in dataset]\n",
    "\n",
    "    return np.array(X), np.array(y_age), np.array(y_sex), list(dataframe.columns)[2:]"
   ]
  },
  {
   "cell_type": "code",
   "execution_count": 182,
   "metadata": {
    "id": "K0QXWr3b4q6C"
   },
   "outputs": [],
   "source": [
    "X, y_age, y_sex, features = read_dataset(\"vk.csv\")\n",
    "X_train, X_test, y_age_train, y_age_test, y_sex_train, y_sex_test = train_test_split(X, y_age, y_sex, train_size=0.9)"
   ]
  },
  {
   "cell_type": "markdown",
   "metadata": {
    "id": "I0y8J97m4q6C"
   },
   "source": [
    "#### Возраст"
   ]
  },
  {
   "cell_type": "code",
   "execution_count": 183,
   "metadata": {
    "id": "MLJykJZH4q6C"
   },
   "outputs": [
    {
     "name": "stdout",
     "output_type": "stream",
     "text": [
      "Accuracy: 0.7238335435056746\n",
      "Most important features:\n",
      "1. ovsyanochan\n",
      "2. 4ch\n",
      "3. rhymes\n",
      "4. mudakoff\n",
      "5. styd.pozor\n",
      "6. rapnewrap\n",
      "7. reflexia_our_feelings\n",
      "8. pravdashowtop\n",
      "9. bot_maxim\n",
      "10. dayvinchik\n",
      "11. ne1party\n",
      "12. iwantyou\n",
      "13. tumblr_vacuum\n",
      "14. pixel_stickers\n",
      "15. fuck_humor\n",
      "16. pozor\n",
      "17. soverwenstvo.decora\n",
      "18. leprum\n",
      "19. ne.poverish\n",
      "20. rem_shkola\n"
     ]
    }
   ],
   "source": [
    "rfc = RandomForestClassifier(n_estimators=10)\n",
    "\n",
    "rfc.fit(X_train, y_age_train)\n",
    "print(\"Accuracy:\", np.mean(rfc.predict(X_test) == y_age_test))\n",
    "print(\"Most important features:\")\n",
    "for i, name in enumerate(most_important_features(feature_importance(rfc), features, 20)):\n",
    "    print(str(i + 1) + \".\", name)"
   ]
  },
  {
   "cell_type": "markdown",
   "metadata": {
    "id": "cgNpaAKH4q6D"
   },
   "source": [
    "#### Пол"
   ]
  },
  {
   "cell_type": "code",
   "execution_count": 184,
   "metadata": {
    "id": "X-zne5-R4q6D"
   },
   "outputs": [
    {
     "name": "stdout",
     "output_type": "stream",
     "text": [
      "Accuracy: 0.8373266078184111\n",
      "Most important features:\n",
      "1. 40kg\n",
      "2. girlmeme\n",
      "3. modnailru\n",
      "4. 4ch\n",
      "5. zerofat\n",
      "6. mudakoff\n",
      "7. 9o_6o_9o\n",
      "8. be.beauty\n",
      "9. i_d_t\n",
      "10. thesmolny\n",
      "11. reflexia_our_feelings\n",
      "12. femalemem\n",
      "13. cook_good\n",
      "14. sh.cook\n",
      "15. be.women\n",
      "16. rapnewrap\n",
      "17. bot_maxim\n",
      "18. academyofman\n",
      "19. beauty\n",
      "20. soverwenstvo.decora\n"
     ]
    }
   ],
   "source": [
    "rfc = RandomForestClassifier(n_estimators=10)\n",
    "rfc.fit(X_train, y_sex_train)\n",
    "print(\"Accuracy:\", np.mean(rfc.predict(X_test) == y_sex_test))\n",
    "print(\"Most important features:\")\n",
    "for i, name in enumerate(most_important_features(feature_importance(rfc), features, 20)):\n",
    "    print(str(i + 1) + \".\", name)"
   ]
  },
  {
   "cell_type": "markdown",
   "metadata": {
    "id": "pxeTQylQ4q6D"
   },
   "source": [
    "### CatBoost\n",
    "В качестве аьтернативы попробуем CatBoost.\n",
    "\n",
    "Устаниовить его можно просто с помощью `pip install catboost`. Туториалы можно найти, например, [здесь](https://catboost.ai/docs/concepts/python-usages-examples.html#multiclassification) и [здесь](https://github.com/catboost/tutorials/blob/master/python_tutorial.ipynb). Главное - не забудьте использовать `loss_function='MultiClass'`.\\\n",
    "\\\n",
    "Сначала протестируйте CatBoost на синтетических данных. Выведите точность и важность признаков."
   ]
  },
  {
   "cell_type": "code",
   "execution_count": 185,
   "metadata": {
    "id": "DOqVkEnd4q6D"
   },
   "outputs": [
    {
     "name": "stdout",
     "output_type": "stream",
     "text": [
      "0:\tlearn: 0.4239784\ttotal: 50.8ms\tremaining: 457ms\n",
      "1:\tlearn: 0.1037410\ttotal: 51.4ms\tremaining: 206ms\n",
      "2:\tlearn: 0.0475388\ttotal: 51.9ms\tremaining: 121ms\n",
      "3:\tlearn: 0.0271089\ttotal: 52.3ms\tremaining: 78.5ms\n",
      "4:\tlearn: 0.0157713\ttotal: 52.7ms\tremaining: 52.7ms\n",
      "5:\tlearn: 0.0102860\ttotal: 53.1ms\tremaining: 35.4ms\n",
      "6:\tlearn: 0.0074490\ttotal: 53.6ms\tremaining: 23ms\n",
      "7:\tlearn: 0.0051865\ttotal: 54ms\tremaining: 13.5ms\n",
      "8:\tlearn: 0.0041190\ttotal: 54.5ms\tremaining: 6.05ms\n",
      "9:\tlearn: 0.0032379\ttotal: 54.9ms\tremaining: 0us\n",
      "Accuracy: 1.0\n",
      "Importance: [ 0.          0.         22.24583462 28.33697139 49.41719399  0.        ]\n"
     ]
    }
   ],
   "source": [
    "X, y = synthetic_dataset(1000)\n",
    "\n",
    "cb_model = CatBoostClassifier(iterations=10,\n",
    "                           learning_rate=1,\n",
    "                           depth=2,\n",
    "                           loss_function='MultiClass')\n",
    "cb_model.fit(X, y)\n",
    "y_pred = cb_model.predict(X)\n",
    "\n",
    "print(\"Accuracy:\", accuracy_score(y_pred, y))\n",
    "print(\"Importance:\", cb_model.feature_importances_)"
   ]
  },
  {
   "cell_type": "markdown",
   "metadata": {
    "id": "tcLRsSNG4q6E"
   },
   "source": [
    "### Задание 5 (3 балла)\n",
    "Попробуем применить один из используемых на практике алгоритмов. В этом нам поможет CatBoost. Также, как и реализованный ними RandomForest, применим его для определения пола и возраста пользователей сети Вконтакте, выведите названия наиболее важных признаков так же, как в задании 3.\\\n",
    "\\\n",
    "Эксперименты с множеством используемых признаков и подбор гиперпараметров приветствуются."
   ]
  },
  {
   "cell_type": "code",
   "execution_count": 186,
   "metadata": {
    "id": "hJGrQcO-4q6E"
   },
   "outputs": [],
   "source": [
    "X, y_age, y_sex, features = read_dataset(\"vk.csv\")\n",
    "X_train, X_test, y_age_train, y_age_test, y_sex_train, y_sex_test = train_test_split(X, y_age, y_sex, train_size=0.9)\n",
    "X_train, X_eval, y_age_train, y_age_eval, y_sex_train, y_sex_eval = train_test_split(\n",
    "    X_train, y_age_train, y_sex_train, train_size=0.8\n",
    ")"
   ]
  },
  {
   "cell_type": "code",
   "execution_count": 198,
   "metadata": {
    "id": "m_imtKJntCmw",
    "pycharm": {
     "name": "#%%\n"
    }
   },
   "outputs": [],
   "source": [
    "max_depth = range(1, 10, 3)\n",
    "min_samples_leaf = range(1, 10, 3)\n",
    "learning_rate = np.linspace(0.001, 1.0, 5)\n",
    "\n",
    "\n",
    "def get_best_params(y_train, y_eval):\n",
    "    best_score, best_params = None, None\n",
    "    for lr, md, msl in tqdm(list(product(learning_rate, max_depth, min_samples_leaf))):\n",
    "        params = { \"learning_rate\":lr,\n",
    "                   \"max_depth\":md,\n",
    "                   \"min_data_in_leaf\":msl,\n",
    "                   \"loss_function\":'MultiClass',\n",
    "                   \"logging_level\":'Silent'}\n",
    "        cb_model = CatBoostClassifier(**params)\n",
    "        cb_model.fit(X_train, y_train)\n",
    "        y_pred = cb_model.predict(X_eval)\n",
    "        score = accuracy_score(y_pred, y_eval)\n",
    "        if not best_score or score > best_score:\n",
    "            best_score, best_params = score, params\n",
    "\n",
    "    return best_params, best_score"
   ]
  },
  {
   "cell_type": "markdown",
   "metadata": {
    "id": "XA5f_8eC4q6E"
   },
   "source": [
    "#### Возраст"
   ]
  },
  {
   "cell_type": "code",
   "execution_count": 199,
   "metadata": {
    "id": "I4PAynzvtCmw",
    "pycharm": {
     "name": "#%%\n"
    }
   },
   "outputs": [
    {
     "data": {
      "application/vnd.jupyter.widget-view+json": {
       "model_id": "8b2b6e62f7b046a98cfe52b2c4760dfa",
       "version_major": 2,
       "version_minor": 0
      },
      "text/plain": [
       "  0%|          | 0/45 [00:00<?, ?it/s]"
      ]
     },
     "metadata": {},
     "output_type": "display_data"
    },
    {
     "data": {
      "text/plain": [
       "({'learning_rate': np.float64(0.25075),\n",
       "  'max_depth': 7,\n",
       "  'min_data_in_leaf': 1,\n",
       "  'loss_function': 'MultiClass',\n",
       "  'logging_level': 'Silent'},\n",
       " np.float64(0.7610371408549405))"
      ]
     },
     "execution_count": 199,
     "metadata": {},
     "output_type": "execute_result"
    }
   ],
   "source": [
    "best_params, best_score = get_best_params(y_age_train, y_age_eval)\n",
    "best_params, best_score"
   ]
  },
  {
   "cell_type": "code",
   "execution_count": 200,
   "metadata": {
    "id": "qSeUpxPj4q6E"
   },
   "outputs": [
    {
     "name": "stdout",
     "output_type": "stream",
     "text": [
      "Accuracy: 0.7288776796973518\n",
      "Most important features:\n",
      "1. mudakoff\n",
      "2. 4ch\n",
      "3. dayvinchik\n",
      "4. exclusive_muzic\n",
      "5. rhymes\n",
      "6. rapnewrap\n",
      "7. kino_mania\n",
      "8. styd.pozor\n",
      "9. ovsyanochan\n",
      "10. fuck_humor\n"
     ]
    }
   ],
   "source": [
    "cb_model = CatBoostClassifier(**best_params)\n",
    "cb_model.fit(X_train, y_age_train)\n",
    "y_pred = cb_model.predict(X_test)\n",
    "\n",
    "print(\"Accuracy:\", accuracy_score(y_age_test, y_pred))\n",
    "print(\"Most important features:\")\n",
    "for i, name in enumerate(most_important_features(cb_model.feature_importances_, features, 10)):\n",
    "    print(str(i + 1) + \".\", name)"
   ]
  },
  {
   "cell_type": "markdown",
   "metadata": {
    "id": "KfYSptm74q6E"
   },
   "source": [
    "#### Пол"
   ]
  },
  {
   "cell_type": "code",
   "execution_count": 201,
   "metadata": {
    "id": "9GI_4dUTtCmx",
    "pycharm": {
     "name": "#%%\n"
    }
   },
   "outputs": [
    {
     "data": {
      "application/vnd.jupyter.widget-view+json": {
       "model_id": "ab29be49ee1b47cf944a5fd18b202117",
       "version_major": 2,
       "version_minor": 0
      },
      "text/plain": [
       "  0%|          | 0/45 [00:00<?, ?it/s]"
      ]
     },
     "metadata": {},
     "output_type": "display_data"
    },
    {
     "data": {
      "text/plain": [
       "({'learning_rate': np.float64(0.25075),\n",
       "  'max_depth': 1,\n",
       "  'min_data_in_leaf': 1,\n",
       "  'loss_function': 'MultiClass',\n",
       "  'logging_level': 'Silent'},\n",
       " np.float64(0.8710581639803784))"
      ]
     },
     "execution_count": 201,
     "metadata": {},
     "output_type": "execute_result"
    }
   ],
   "source": [
    "best_params, best_score = get_best_params(y_sex_train, y_sex_eval)\n",
    "best_params, best_score"
   ]
  },
  {
   "cell_type": "code",
   "execution_count": 203,
   "metadata": {
    "id": "4rKa-f6F4q6E",
    "pycharm": {
     "name": "#%%\n"
    }
   },
   "outputs": [
    {
     "name": "stdout",
     "output_type": "stream",
     "text": [
      "Accuracy: 0.8738965952080706\n",
      "Most important features:\n",
      "1. 40kg\n",
      "2. modnailru\n",
      "3. girlmeme\n",
      "4. mudakoff\n",
      "5. i_d_t\n",
      "6. 9o_6o_9o\n",
      "7. be.beauty\n",
      "8. zerofat\n",
      "9. thesmolny\n",
      "10. igm\n"
     ]
    }
   ],
   "source": [
    "cb_model = CatBoostClassifier(**best_params)\n",
    "cb_model.fit(X_train, y_sex_train)\n",
    "y_pred = cb_model.predict(X_test)\n",
    "\n",
    "print(\"Accuracy:\", accuracy_score(y_sex_test, y_pred))\n",
    "print(\"Most important features:\")\n",
    "for i, name in enumerate(most_important_features(cb_model.feature_importances_, features, 10)):\n",
    "    print(str(i + 1) + \".\", name)"
   ]
  }
 ],
 "metadata": {
  "colab": {
   "provenance": []
  },
  "kernelspec": {
   "display_name": "Python 3 (ipykernel)",
   "language": "python",
   "name": "python3"
  },
  "language_info": {
   "codemirror_mode": {
    "name": "ipython",
    "version": 3
   },
   "file_extension": ".py",
   "mimetype": "text/x-python",
   "name": "python",
   "nbconvert_exporter": "python",
   "pygments_lexer": "ipython3",
   "version": "3.12.7"
  }
 },
 "nbformat": 4,
 "nbformat_minor": 4
}
